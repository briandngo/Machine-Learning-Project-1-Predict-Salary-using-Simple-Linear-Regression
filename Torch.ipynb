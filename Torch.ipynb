{
  "nbformat": 4,
  "nbformat_minor": 0,
  "metadata": {
    "colab": {
      "name": "Torch",
      "provenance": [],
      "authorship_tag": "ABX9TyNMb4n11GnSgNX+sfULfD90",
      "include_colab_link": true
    },
    "kernelspec": {
      "name": "python3",
      "display_name": "Python 3"
    },
    "accelerator": "GPU"
  },
  "cells": [
    {
      "cell_type": "markdown",
      "metadata": {
        "id": "view-in-github",
        "colab_type": "text"
      },
      "source": [
        "<a href=\"https://colab.research.google.com/github/namdhngo/Machine-Learning-Project-1-Predict-Salary-using-Simple-Linear-Regression/blob/master/Torch.ipynb\" target=\"_parent\"><img src=\"https://colab.research.google.com/assets/colab-badge.svg\" alt=\"Open In Colab\"/></a>"
      ]
    },
    {
      "cell_type": "code",
      "metadata": {
        "id": "bSxO-5FrM0lA",
        "colab_type": "code",
        "colab": {
          "base_uri": "https://localhost:8080/",
          "height": 34
        },
        "outputId": "0a25fc6c-a5d2-442e-d34a-4d814c1ac153"
      },
      "source": [
        "import torch\n",
        "\n",
        "x = torch.Tensor([2, 5])\n",
        "y = torch.Tensor([3, 1])\n",
        "print(x * y)\n"
      ],
      "execution_count": null,
      "outputs": [
        {
          "output_type": "stream",
          "text": [
            "tensor([6., 5.])\n"
          ],
          "name": "stdout"
        }
      ]
    },
    {
      "cell_type": "code",
      "metadata": {
        "id": "J5fTelOCQO9I",
        "colab_type": "code",
        "colab": {
          "base_uri": "https://localhost:8080/",
          "height": 466
        },
        "outputId": "8310979d-1ec0-48e7-e40d-73a4bb85e8a3"
      },
      "source": [
        "import torch\n",
        "import torchvision\n",
        "from torchvision import transforms, datasets\n",
        "\n",
        "train = datasets.MNIST('', train=True, download=True,\n",
        "                       transform=transforms.Compose([\n",
        "                           transforms.ToTensor()\n",
        "                       ]))\n",
        "\n",
        "test = datasets.MNIST('', train=False, download=True,\n",
        "                       transform=transforms.Compose([\n",
        "                           transforms.ToTensor()\n",
        "                       ]))\n",
        "\n",
        "trainset = torch.utils.data.DataLoader(train, batch_size=10, shuffle=True)\n",
        "testset = torch.utils.data.DataLoader(test, batch_size=10, shuffle=False)\n",
        "\n",
        "#for data in trainset:\n",
        "#    print(data)\n",
        "#    break\n",
        "X, y = data[0][0], data[1][0] \n",
        "print(data[1])\n",
        "import matplotlib.pyplot as plt\n",
        "\n",
        "plt.imshow(data[0][0].view(28,28))\n",
        "plt.show()\n",
        "data[0][0][0][20]\n",
        "\n",
        "total = 0\n",
        "counter_dict = {0:0, 1:0, 2:0, 3:0, 4:0, 5:0, 6:0, 7:0, 8:0, 9:0}\n",
        "\n",
        "\n",
        "for data in trainset:\n",
        "    Xs, ys = data\n",
        "    for y in ys:\n",
        "        counter_dict[int(y)] += 1\n",
        "        total += 1\n",
        "\n",
        "print(counter_dict)\n",
        "\n",
        "for i in counter_dict:\n",
        "    print(f\"{i}: {counter_dict[i]/total*100.0}%\")"
      ],
      "execution_count": 30,
      "outputs": [
        {
          "output_type": "stream",
          "text": [
            "tensor([0, 4, 7, 6, 5, 5, 3, 4, 1, 5])\n"
          ],
          "name": "stdout"
        },
        {
          "output_type": "display_data",
          "data": {
            "image/png": "[encoded data removed]",
            "text/plain": [
              "<Figure size 432x288 with 1 Axes>"
            ]
          },
          "metadata": {
            "tags": [],
            "needs_background": "light"
          }
        },
        {
          "output_type": "stream",
          "text": [
            "{0: 5923, 1: 6742, 2: 5958, 3: 6131, 4: 5842, 5: 5421, 6: 5918, 7: 6265, 8: 5851, 9: 5949}\n",
            "0: 9.871666666666666%\n",
            "1: 11.236666666666666%\n",
            "2: 9.93%\n",
            "3: 10.218333333333334%\n",
            "4: 9.736666666666666%\n",
            "5: 9.035%\n",
            "6: 9.863333333333333%\n",
            "7: 10.441666666666666%\n",
            "8: 9.751666666666667%\n",
            "9: 9.915000000000001%\n"
          ],
          "name": "stdout"
        }
      ]
    }
  ]
}